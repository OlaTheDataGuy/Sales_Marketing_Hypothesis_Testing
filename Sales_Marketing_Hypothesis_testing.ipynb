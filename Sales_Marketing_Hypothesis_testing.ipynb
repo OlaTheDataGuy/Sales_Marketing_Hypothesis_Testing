{
  "cells": [
    {
      "cell_type": "markdown",
      "metadata": {
        "id": "3efad4c7-d34f-44b0-a48d-94651f931bae"
      },
      "source": [
        "# **Project: Hypothesis Testing for Sales and Marketing Strategies**"
      ],
      "id": "3efad4c7-d34f-44b0-a48d-94651f931bae"
    },
    {
      "cell_type": "markdown",
      "metadata": {
        "id": "2faf7b57-5c13-45e5-b666-d575eff0d17c"
      },
      "source": [
        "## Project Description"
      ],
      "id": "2faf7b57-5c13-45e5-b666-d575eff0d17c"
    },
    {
      "cell_type": "markdown",
      "metadata": {
        "id": "2ca9aca5-33e0-4aa7-acdb-05832b05e5a9"
      },
      "source": [
        "The objective of this project focuses on conducting hypothesis testing to analyze the relationship between sales and marketing efforts. Through statistical analysis, this project aims to determine the significance of marketing strategies on sales performance. The dataset consists of information on independent marketing promotions conducted by the business, focusing on various promotion types such as TV, social media, radio, and influencer marketing. The primary goal is to determine if there are significant differences in sales among different TV and influencer promotion types.\n",
        "\n",
        "By performing the ANOVA and post hoc tests, the project aims to provide the stakeholders with robust statistical evidence regarding the impact of different TV and influencer promotion types on sales. The results of the analysis will enable to make more informed recommendations to drive future marketing strategies and optimize promotional efforts."
      ],
      "id": "2ca9aca5-33e0-4aa7-acdb-05832b05e5a9"
    },
    {
      "cell_type": "markdown",
      "source": [
        "## Business challenge"
      ],
      "metadata": {
        "id": "o6WFfvI08Jjf"
      },
      "id": "o6WFfvI08Jjf"
    },
    {
      "cell_type": "markdown",
      "source": [
        "The business faces the challenge of optimizing its marketing promotions to increase sales. To achieve this, it is crucial to understand the effectiveness of various promotional strategies, specifically focusing on TV and influencer promotions. The stakeholders are seeking insights into whether sales significantly differ across different TV and influencer promotion types.\n",
        "\n",
        "By addressing this challenge, the project aims to provide actionable insights to the business, enabling them to make data-driven decisions regarding their marketing strategies."
      ],
      "metadata": {
        "id": "TeHsb_Pb8JAX"
      },
      "id": "TeHsb_Pb8JAX"
    },
    {
      "cell_type": "markdown",
      "metadata": {
        "id": "bfcf5ec2-e48b-4443-9bf6-72670bd60041"
      },
      "source": [
        "## Import packages & load dataset"
      ],
      "id": "bfcf5ec2-e48b-4443-9bf6-72670bd60041"
    },
    {
      "cell_type": "code",
      "execution_count": null,
      "metadata": {
        "id": "b2f4b9fa-b7bd-4b88-8c71-d3af5ddcb906"
      },
      "outputs": [],
      "source": [
        "# Import necessary libraries\n",
        "\n",
        "from google.colab import files\n",
        "import io\n",
        "import pandas as pd\n",
        "import matplotlib.pyplot as plt\n",
        "import seaborn as sns\n",
        "import statsmodels.api as sm\n",
        "from statsmodels.formula.api import ols\n",
        "from statsmodels.stats.multicomp import pairwise_tukeyhsd\n"
      ],
      "id": "b2f4b9fa-b7bd-4b88-8c71-d3af5ddcb906"
    },
    {
      "cell_type": "code",
      "source": [
        "## Load data from local drive\n",
        "\n",
        "uploaded=files.upload()"
      ],
      "metadata": {
        "colab": {
          "base_uri": "https://localhost:8080/",
          "height": 73
        },
        "id": "WRSNkKwc-Tpc",
        "outputId": "2112b149-f80b-4055-e30f-f1e7818d5f35"
      },
      "id": "WRSNkKwc-Tpc",
      "execution_count": null,
      "outputs": [
        {
          "output_type": "display_data",
          "data": {
            "text/plain": [
              "<IPython.core.display.HTML object>"
            ],
            "text/html": [
              "\n",
              "     <input type=\"file\" id=\"files-5092de8e-01a5-40e0-873b-6ee202007cab\" name=\"files[]\" multiple disabled\n",
              "        style=\"border:none\" />\n",
              "     <output id=\"result-5092de8e-01a5-40e0-873b-6ee202007cab\">\n",
              "      Upload widget is only available when the cell has been executed in the\n",
              "      current browser session. Please rerun this cell to enable.\n",
              "      </output>\n",
              "      <script>// Copyright 2017 Google LLC\n",
              "//\n",
              "// Licensed under the Apache License, Version 2.0 (the \"License\");\n",
              "// you may not use this file except in compliance with the License.\n",
              "// You may obtain a copy of the License at\n",
              "//\n",
              "//      http://www.apache.org/licenses/LICENSE-2.0\n",
              "//\n",
              "// Unless required by applicable law or agreed to in writing, software\n",
              "// distributed under the License is distributed on an \"AS IS\" BASIS,\n",
              "// WITHOUT WARRANTIES OR CONDITIONS OF ANY KIND, either express or implied.\n",
              "// See the License for the specific language governing permissions and\n",
              "// limitations under the License.\n",
              "\n",
              "/**\n",
              " * @fileoverview Helpers for google.colab Python module.\n",
              " */\n",
              "(function(scope) {\n",
              "function span(text, styleAttributes = {}) {\n",
              "  const element = document.createElement('span');\n",
              "  element.textContent = text;\n",
              "  for (const key of Object.keys(styleAttributes)) {\n",
              "    element.style[key] = styleAttributes[key];\n",
              "  }\n",
              "  return element;\n",
              "}\n",
              "\n",
              "// Max number of bytes which will be uploaded at a time.\n",
              "const MAX_PAYLOAD_SIZE = 100 * 1024;\n",
              "\n",
              "function _uploadFiles(inputId, outputId) {\n",
              "  const steps = uploadFilesStep(inputId, outputId);\n",
              "  const outputElement = document.getElementById(outputId);\n",
              "  // Cache steps on the outputElement to make it available for the next call\n",
              "  // to uploadFilesContinue from Python.\n",
              "  outputElement.steps = steps;\n",
              "\n",
              "  return _uploadFilesContinue(outputId);\n",
              "}\n",
              "\n",
              "// This is roughly an async generator (not supported in the browser yet),\n",
              "// where there are multiple asynchronous steps and the Python side is going\n",
              "// to poll for completion of each step.\n",
              "// This uses a Promise to block the python side on completion of each step,\n",
              "// then passes the result of the previous step as the input to the next step.\n",
              "function _uploadFilesContinue(outputId) {\n",
              "  const outputElement = document.getElementById(outputId);\n",
              "  const steps = outputElement.steps;\n",
              "\n",
              "  const next = steps.next(outputElement.lastPromiseValue);\n",
              "  return Promise.resolve(next.value.promise).then((value) => {\n",
              "    // Cache the last promise value to make it available to the next\n",
              "    // step of the generator.\n",
              "    outputElement.lastPromiseValue = value;\n",
              "    return next.value.response;\n",
              "  });\n",
              "}\n",
              "\n",
              "/**\n",
              " * Generator function which is called between each async step of the upload\n",
              " * process.\n",
              " * @param {string} inputId Element ID of the input file picker element.\n",
              " * @param {string} outputId Element ID of the output display.\n",
              " * @return {!Iterable<!Object>} Iterable of next steps.\n",
              " */\n",
              "function* uploadFilesStep(inputId, outputId) {\n",
              "  const inputElement = document.getElementById(inputId);\n",
              "  inputElement.disabled = false;\n",
              "\n",
              "  const outputElement = document.getElementById(outputId);\n",
              "  outputElement.innerHTML = '';\n",
              "\n",
              "  const pickedPromise = new Promise((resolve) => {\n",
              "    inputElement.addEventListener('change', (e) => {\n",
              "      resolve(e.target.files);\n",
              "    });\n",
              "  });\n",
              "\n",
              "  const cancel = document.createElement('button');\n",
              "  inputElement.parentElement.appendChild(cancel);\n",
              "  cancel.textContent = 'Cancel upload';\n",
              "  const cancelPromise = new Promise((resolve) => {\n",
              "    cancel.onclick = () => {\n",
              "      resolve(null);\n",
              "    };\n",
              "  });\n",
              "\n",
              "  // Wait for the user to pick the files.\n",
              "  const files = yield {\n",
              "    promise: Promise.race([pickedPromise, cancelPromise]),\n",
              "    response: {\n",
              "      action: 'starting',\n",
              "    }\n",
              "  };\n",
              "\n",
              "  cancel.remove();\n",
              "\n",
              "  // Disable the input element since further picks are not allowed.\n",
              "  inputElement.disabled = true;\n",
              "\n",
              "  if (!files) {\n",
              "    return {\n",
              "      response: {\n",
              "        action: 'complete',\n",
              "      }\n",
              "    };\n",
              "  }\n",
              "\n",
              "  for (const file of files) {\n",
              "    const li = document.createElement('li');\n",
              "    li.append(span(file.name, {fontWeight: 'bold'}));\n",
              "    li.append(span(\n",
              "        `(${file.type || 'n/a'}) - ${file.size} bytes, ` +\n",
              "        `last modified: ${\n",
              "            file.lastModifiedDate ? file.lastModifiedDate.toLocaleDateString() :\n",
              "                                    'n/a'} - `));\n",
              "    const percent = span('0% done');\n",
              "    li.appendChild(percent);\n",
              "\n",
              "    outputElement.appendChild(li);\n",
              "\n",
              "    const fileDataPromise = new Promise((resolve) => {\n",
              "      const reader = new FileReader();\n",
              "      reader.onload = (e) => {\n",
              "        resolve(e.target.result);\n",
              "      };\n",
              "      reader.readAsArrayBuffer(file);\n",
              "    });\n",
              "    // Wait for the data to be ready.\n",
              "    let fileData = yield {\n",
              "      promise: fileDataPromise,\n",
              "      response: {\n",
              "        action: 'continue',\n",
              "      }\n",
              "    };\n",
              "\n",
              "    // Use a chunked sending to avoid message size limits. See b/62115660.\n",
              "    let position = 0;\n",
              "    do {\n",
              "      const length = Math.min(fileData.byteLength - position, MAX_PAYLOAD_SIZE);\n",
              "      const chunk = new Uint8Array(fileData, position, length);\n",
              "      position += length;\n",
              "\n",
              "      const base64 = btoa(String.fromCharCode.apply(null, chunk));\n",
              "      yield {\n",
              "        response: {\n",
              "          action: 'append',\n",
              "          file: file.name,\n",
              "          data: base64,\n",
              "        },\n",
              "      };\n",
              "\n",
              "      let percentDone = fileData.byteLength === 0 ?\n",
              "          100 :\n",
              "          Math.round((position / fileData.byteLength) * 100);\n",
              "      percent.textContent = `${percentDone}% done`;\n",
              "\n",
              "    } while (position < fileData.byteLength);\n",
              "  }\n",
              "\n",
              "  // All done.\n",
              "  yield {\n",
              "    response: {\n",
              "      action: 'complete',\n",
              "    }\n",
              "  };\n",
              "}\n",
              "\n",
              "scope.google = scope.google || {};\n",
              "scope.google.colab = scope.google.colab || {};\n",
              "scope.google.colab._files = {\n",
              "  _uploadFiles,\n",
              "  _uploadFilesContinue,\n",
              "};\n",
              "})(self);\n",
              "</script> "
            ]
          },
          "metadata": {}
        },
        {
          "output_type": "stream",
          "name": "stdout",
          "text": [
            "Saving Sales_marketing_data.csv to Sales_marketing_data.csv\n"
          ]
        }
      ]
    },
    {
      "cell_type": "code",
      "execution_count": null,
      "metadata": {
        "id": "32d46d82-2bd6-4433-b56e-cfa5542949ca"
      },
      "outputs": [],
      "source": [
        "# Load the data\n",
        "\n",
        "df = pd.read_csv(io.StringIO(uploaded['Sales_marketing_data.csv'].decode('utf-8')))\n"
      ],
      "id": "32d46d82-2bd6-4433-b56e-cfa5542949ca"
    },
    {
      "cell_type": "code",
      "source": [
        "# Display\n",
        "\n",
        "df.head()"
      ],
      "metadata": {
        "colab": {
          "base_uri": "https://localhost:8080/",
          "height": 206
        },
        "id": "u9DNdv-9-bCL",
        "outputId": "c96d73d1-07c5-4fd9-afb9-91901053f248"
      },
      "id": "u9DNdv-9-bCL",
      "execution_count": null,
      "outputs": [
        {
          "output_type": "execute_result",
          "data": {
            "text/plain": [
              "       TV      Radio  Social Media Influencer       Sales\n",
              "0     Low   1.218354      1.270444      Micro   90.054222\n",
              "1  Medium  14.949791      0.274451      Macro  222.741668\n",
              "2     Low  10.377258      0.061984       Mega  102.774790\n",
              "3    High  26.469274      7.070945      Micro  328.239378\n",
              "4    High  36.876302      7.618605       Mega  351.807328"
            ],
            "text/html": [
              "\n",
              "  <div id=\"df-c1c6ec82-04dd-4a54-90e0-2316ca0ec075\">\n",
              "    <div class=\"colab-df-container\">\n",
              "      <div>\n",
              "<style scoped>\n",
              "    .dataframe tbody tr th:only-of-type {\n",
              "        vertical-align: middle;\n",
              "    }\n",
              "\n",
              "    .dataframe tbody tr th {\n",
              "        vertical-align: top;\n",
              "    }\n",
              "\n",
              "    .dataframe thead th {\n",
              "        text-align: right;\n",
              "    }\n",
              "</style>\n",
              "<table border=\"1\" class=\"dataframe\">\n",
              "  <thead>\n",
              "    <tr style=\"text-align: right;\">\n",
              "      <th></th>\n",
              "      <th>TV</th>\n",
              "      <th>Radio</th>\n",
              "      <th>Social Media</th>\n",
              "      <th>Influencer</th>\n",
              "      <th>Sales</th>\n",
              "    </tr>\n",
              "  </thead>\n",
              "  <tbody>\n",
              "    <tr>\n",
              "      <th>0</th>\n",
              "      <td>Low</td>\n",
              "      <td>1.218354</td>\n",
              "      <td>1.270444</td>\n",
              "      <td>Micro</td>\n",
              "      <td>90.054222</td>\n",
              "    </tr>\n",
              "    <tr>\n",
              "      <th>1</th>\n",
              "      <td>Medium</td>\n",
              "      <td>14.949791</td>\n",
              "      <td>0.274451</td>\n",
              "      <td>Macro</td>\n",
              "      <td>222.741668</td>\n",
              "    </tr>\n",
              "    <tr>\n",
              "      <th>2</th>\n",
              "      <td>Low</td>\n",
              "      <td>10.377258</td>\n",
              "      <td>0.061984</td>\n",
              "      <td>Mega</td>\n",
              "      <td>102.774790</td>\n",
              "    </tr>\n",
              "    <tr>\n",
              "      <th>3</th>\n",
              "      <td>High</td>\n",
              "      <td>26.469274</td>\n",
              "      <td>7.070945</td>\n",
              "      <td>Micro</td>\n",
              "      <td>328.239378</td>\n",
              "    </tr>\n",
              "    <tr>\n",
              "      <th>4</th>\n",
              "      <td>High</td>\n",
              "      <td>36.876302</td>\n",
              "      <td>7.618605</td>\n",
              "      <td>Mega</td>\n",
              "      <td>351.807328</td>\n",
              "    </tr>\n",
              "  </tbody>\n",
              "</table>\n",
              "</div>\n",
              "      <button class=\"colab-df-convert\" onclick=\"convertToInteractive('df-c1c6ec82-04dd-4a54-90e0-2316ca0ec075')\"\n",
              "              title=\"Convert this dataframe to an interactive table.\"\n",
              "              style=\"display:none;\">\n",
              "        \n",
              "  <svg xmlns=\"http://www.w3.org/2000/svg\" height=\"24px\"viewBox=\"0 0 24 24\"\n",
              "       width=\"24px\">\n",
              "    <path d=\"M0 0h24v24H0V0z\" fill=\"none\"/>\n",
              "    <path d=\"M18.56 5.44l.94 2.06.94-2.06 2.06-.94-2.06-.94-.94-2.06-.94 2.06-2.06.94zm-11 1L8.5 8.5l.94-2.06 2.06-.94-2.06-.94L8.5 2.5l-.94 2.06-2.06.94zm10 10l.94 2.06.94-2.06 2.06-.94-2.06-.94-.94-2.06-.94 2.06-2.06.94z\"/><path d=\"M17.41 7.96l-1.37-1.37c-.4-.4-.92-.59-1.43-.59-.52 0-1.04.2-1.43.59L10.3 9.45l-7.72 7.72c-.78.78-.78 2.05 0 2.83L4 21.41c.39.39.9.59 1.41.59.51 0 1.02-.2 1.41-.59l7.78-7.78 2.81-2.81c.8-.78.8-2.07 0-2.86zM5.41 20L4 18.59l7.72-7.72 1.47 1.35L5.41 20z\"/>\n",
              "  </svg>\n",
              "      </button>\n",
              "      \n",
              "  <style>\n",
              "    .colab-df-container {\n",
              "      display:flex;\n",
              "      flex-wrap:wrap;\n",
              "      gap: 12px;\n",
              "    }\n",
              "\n",
              "    .colab-df-convert {\n",
              "      background-color: #E8F0FE;\n",
              "      border: none;\n",
              "      border-radius: 50%;\n",
              "      cursor: pointer;\n",
              "      display: none;\n",
              "      fill: #1967D2;\n",
              "      height: 32px;\n",
              "      padding: 0 0 0 0;\n",
              "      width: 32px;\n",
              "    }\n",
              "\n",
              "    .colab-df-convert:hover {\n",
              "      background-color: #E2EBFA;\n",
              "      box-shadow: 0px 1px 2px rgba(60, 64, 67, 0.3), 0px 1px 3px 1px rgba(60, 64, 67, 0.15);\n",
              "      fill: #174EA6;\n",
              "    }\n",
              "\n",
              "    [theme=dark] .colab-df-convert {\n",
              "      background-color: #3B4455;\n",
              "      fill: #D2E3FC;\n",
              "    }\n",
              "\n",
              "    [theme=dark] .colab-df-convert:hover {\n",
              "      background-color: #434B5C;\n",
              "      box-shadow: 0px 1px 3px 1px rgba(0, 0, 0, 0.15);\n",
              "      filter: drop-shadow(0px 1px 2px rgba(0, 0, 0, 0.3));\n",
              "      fill: #FFFFFF;\n",
              "    }\n",
              "  </style>\n",
              "\n",
              "      <script>\n",
              "        const buttonEl =\n",
              "          document.querySelector('#df-c1c6ec82-04dd-4a54-90e0-2316ca0ec075 button.colab-df-convert');\n",
              "        buttonEl.style.display =\n",
              "          google.colab.kernel.accessAllowed ? 'block' : 'none';\n",
              "\n",
              "        async function convertToInteractive(key) {\n",
              "          const element = document.querySelector('#df-c1c6ec82-04dd-4a54-90e0-2316ca0ec075');\n",
              "          const dataTable =\n",
              "            await google.colab.kernel.invokeFunction('convertToInteractive',\n",
              "                                                     [key], {});\n",
              "          if (!dataTable) return;\n",
              "\n",
              "          const docLinkHtml = 'Like what you see? Visit the ' +\n",
              "            '<a target=\"_blank\" href=https://colab.research.google.com/notebooks/data_table.ipynb>data table notebook</a>'\n",
              "            + ' to learn more about interactive tables.';\n",
              "          element.innerHTML = '';\n",
              "          dataTable['output_type'] = 'display_data';\n",
              "          await google.colab.output.renderOutput(dataTable, element);\n",
              "          const docLink = document.createElement('div');\n",
              "          docLink.innerHTML = docLinkHtml;\n",
              "          element.appendChild(docLink);\n",
              "        }\n",
              "      </script>\n",
              "    </div>\n",
              "  </div>\n",
              "  "
            ]
          },
          "metadata": {},
          "execution_count": 4
        }
      ]
    },
    {
      "cell_type": "markdown",
      "metadata": {
        "id": "fd47ede7-63ff-4fe5-aeb0-b8f909e9ecbe"
      },
      "source": [
        "## **Perform EDA** (data visualization, descriptive statistics, missing values)\n"
      ],
      "id": "fd47ede7-63ff-4fe5-aeb0-b8f909e9ecbe"
    },
    {
      "cell_type": "code",
      "source": [
        "# Get data Info\n",
        "\n",
        "df.info()"
      ],
      "metadata": {
        "colab": {
          "base_uri": "https://localhost:8080/"
        },
        "id": "7r2FMCLz_UPi",
        "outputId": "8d5c7876-9e1d-4b47-b24c-f6f2a6b23144"
      },
      "id": "7r2FMCLz_UPi",
      "execution_count": null,
      "outputs": [
        {
          "output_type": "stream",
          "name": "stdout",
          "text": [
            "<class 'pandas.core.frame.DataFrame'>\n",
            "RangeIndex: 572 entries, 0 to 571\n",
            "Data columns (total 5 columns):\n",
            " #   Column        Non-Null Count  Dtype  \n",
            "---  ------        --------------  -----  \n",
            " 0   TV            571 non-null    object \n",
            " 1   Radio         571 non-null    float64\n",
            " 2   Social Media  572 non-null    float64\n",
            " 3   Influencer    572 non-null    object \n",
            " 4   Sales         571 non-null    float64\n",
            "dtypes: float64(3), object(2)\n",
            "memory usage: 22.5+ KB\n"
          ]
        }
      ]
    },
    {
      "cell_type": "code",
      "source": [
        "# Descriptive statistics\n",
        "\n",
        "df.describe()"
      ],
      "metadata": {
        "colab": {
          "base_uri": "https://localhost:8080/",
          "height": 300
        },
        "id": "aACF-yj4Ac0U",
        "outputId": "f32bb2c8-4e11-4cd0-c6b2-0319d86aab4e"
      },
      "id": "aACF-yj4Ac0U",
      "execution_count": null,
      "outputs": [
        {
          "output_type": "execute_result",
          "data": {
            "text/plain": [
              "            Radio  Social Media       Sales\n",
              "count  571.000000    572.000000  571.000000\n",
              "mean    18.646472      3.248471  193.516937\n",
              "std      9.650740      2.195696   90.516153\n",
              "min      0.194576      0.013230   31.199409\n",
              "25%     10.878554      1.447163  118.544562\n",
              "50%     18.810430      2.945318  198.521410\n",
              "75%     25.838296      4.791290  268.567987\n",
              "max     48.871161     11.260430  358.420739"
            ],
            "text/html": [
              "\n",
              "  <div id=\"df-26be090b-440e-4591-8141-9c1c30742de6\">\n",
              "    <div class=\"colab-df-container\">\n",
              "      <div>\n",
              "<style scoped>\n",
              "    .dataframe tbody tr th:only-of-type {\n",
              "        vertical-align: middle;\n",
              "    }\n",
              "\n",
              "    .dataframe tbody tr th {\n",
              "        vertical-align: top;\n",
              "    }\n",
              "\n",
              "    .dataframe thead th {\n",
              "        text-align: right;\n",
              "    }\n",
              "</style>\n",
              "<table border=\"1\" class=\"dataframe\">\n",
              "  <thead>\n",
              "    <tr style=\"text-align: right;\">\n",
              "      <th></th>\n",
              "      <th>Radio</th>\n",
              "      <th>Social Media</th>\n",
              "      <th>Sales</th>\n",
              "    </tr>\n",
              "  </thead>\n",
              "  <tbody>\n",
              "    <tr>\n",
              "      <th>count</th>\n",
              "      <td>571.000000</td>\n",
              "      <td>572.000000</td>\n",
              "      <td>571.000000</td>\n",
              "    </tr>\n",
              "    <tr>\n",
              "      <th>mean</th>\n",
              "      <td>18.646472</td>\n",
              "      <td>3.248471</td>\n",
              "      <td>193.516937</td>\n",
              "    </tr>\n",
              "    <tr>\n",
              "      <th>std</th>\n",
              "      <td>9.650740</td>\n",
              "      <td>2.195696</td>\n",
              "      <td>90.516153</td>\n",
              "    </tr>\n",
              "    <tr>\n",
              "      <th>min</th>\n",
              "      <td>0.194576</td>\n",
              "      <td>0.013230</td>\n",
              "      <td>31.199409</td>\n",
              "    </tr>\n",
              "    <tr>\n",
              "      <th>25%</th>\n",
              "      <td>10.878554</td>\n",
              "      <td>1.447163</td>\n",
              "      <td>118.544562</td>\n",
              "    </tr>\n",
              "    <tr>\n",
              "      <th>50%</th>\n",
              "      <td>18.810430</td>\n",
              "      <td>2.945318</td>\n",
              "      <td>198.521410</td>\n",
              "    </tr>\n",
              "    <tr>\n",
              "      <th>75%</th>\n",
              "      <td>25.838296</td>\n",
              "      <td>4.791290</td>\n",
              "      <td>268.567987</td>\n",
              "    </tr>\n",
              "    <tr>\n",
              "      <th>max</th>\n",
              "      <td>48.871161</td>\n",
              "      <td>11.260430</td>\n",
              "      <td>358.420739</td>\n",
              "    </tr>\n",
              "  </tbody>\n",
              "</table>\n",
              "</div>\n",
              "      <button class=\"colab-df-convert\" onclick=\"convertToInteractive('df-26be090b-440e-4591-8141-9c1c30742de6')\"\n",
              "              title=\"Convert this dataframe to an interactive table.\"\n",
              "              style=\"display:none;\">\n",
              "        \n",
              "  <svg xmlns=\"http://www.w3.org/2000/svg\" height=\"24px\"viewBox=\"0 0 24 24\"\n",
              "       width=\"24px\">\n",
              "    <path d=\"M0 0h24v24H0V0z\" fill=\"none\"/>\n",
              "    <path d=\"M18.56 5.44l.94 2.06.94-2.06 2.06-.94-2.06-.94-.94-2.06-.94 2.06-2.06.94zm-11 1L8.5 8.5l.94-2.06 2.06-.94-2.06-.94L8.5 2.5l-.94 2.06-2.06.94zm10 10l.94 2.06.94-2.06 2.06-.94-2.06-.94-.94-2.06-.94 2.06-2.06.94z\"/><path d=\"M17.41 7.96l-1.37-1.37c-.4-.4-.92-.59-1.43-.59-.52 0-1.04.2-1.43.59L10.3 9.45l-7.72 7.72c-.78.78-.78 2.05 0 2.83L4 21.41c.39.39.9.59 1.41.59.51 0 1.02-.2 1.41-.59l7.78-7.78 2.81-2.81c.8-.78.8-2.07 0-2.86zM5.41 20L4 18.59l7.72-7.72 1.47 1.35L5.41 20z\"/>\n",
              "  </svg>\n",
              "      </button>\n",
              "      \n",
              "  <style>\n",
              "    .colab-df-container {\n",
              "      display:flex;\n",
              "      flex-wrap:wrap;\n",
              "      gap: 12px;\n",
              "    }\n",
              "\n",
              "    .colab-df-convert {\n",
              "      background-color: #E8F0FE;\n",
              "      border: none;\n",
              "      border-radius: 50%;\n",
              "      cursor: pointer;\n",
              "      display: none;\n",
              "      fill: #1967D2;\n",
              "      height: 32px;\n",
              "      padding: 0 0 0 0;\n",
              "      width: 32px;\n",
              "    }\n",
              "\n",
              "    .colab-df-convert:hover {\n",
              "      background-color: #E2EBFA;\n",
              "      box-shadow: 0px 1px 2px rgba(60, 64, 67, 0.3), 0px 1px 3px 1px rgba(60, 64, 67, 0.15);\n",
              "      fill: #174EA6;\n",
              "    }\n",
              "\n",
              "    [theme=dark] .colab-df-convert {\n",
              "      background-color: #3B4455;\n",
              "      fill: #D2E3FC;\n",
              "    }\n",
              "\n",
              "    [theme=dark] .colab-df-convert:hover {\n",
              "      background-color: #434B5C;\n",
              "      box-shadow: 0px 1px 3px 1px rgba(0, 0, 0, 0.15);\n",
              "      filter: drop-shadow(0px 1px 2px rgba(0, 0, 0, 0.3));\n",
              "      fill: #FFFFFF;\n",
              "    }\n",
              "  </style>\n",
              "\n",
              "      <script>\n",
              "        const buttonEl =\n",
              "          document.querySelector('#df-26be090b-440e-4591-8141-9c1c30742de6 button.colab-df-convert');\n",
              "        buttonEl.style.display =\n",
              "          google.colab.kernel.accessAllowed ? 'block' : 'none';\n",
              "\n",
              "        async function convertToInteractive(key) {\n",
              "          const element = document.querySelector('#df-26be090b-440e-4591-8141-9c1c30742de6');\n",
              "          const dataTable =\n",
              "            await google.colab.kernel.invokeFunction('convertToInteractive',\n",
              "                                                     [key], {});\n",
              "          if (!dataTable) return;\n",
              "\n",
              "          const docLinkHtml = 'Like what you see? Visit the ' +\n",
              "            '<a target=\"_blank\" href=https://colab.research.google.com/notebooks/data_table.ipynb>data table notebook</a>'\n",
              "            + ' to learn more about interactive tables.';\n",
              "          element.innerHTML = '';\n",
              "          dataTable['output_type'] = 'display_data';\n",
              "          await google.colab.output.renderOutput(dataTable, element);\n",
              "          const docLink = document.createElement('div');\n",
              "          docLink.innerHTML = docLinkHtml;\n",
              "          element.appendChild(docLink);\n",
              "        }\n",
              "      </script>\n",
              "    </div>\n",
              "  </div>\n",
              "  "
            ]
          },
          "metadata": {},
          "execution_count": 6
        }
      ]
    },
    {
      "cell_type": "code",
      "source": [
        "# check for missing data\n",
        "\n",
        "df.isnull().sum()"
      ],
      "metadata": {
        "colab": {
          "base_uri": "https://localhost:8080/"
        },
        "id": "VXAECe8IDFii",
        "outputId": "8644abf6-416e-494f-d2a7-bae9aeba7cd6"
      },
      "id": "VXAECe8IDFii",
      "execution_count": null,
      "outputs": [
        {
          "output_type": "execute_result",
          "data": {
            "text/plain": [
              "TV              1\n",
              "Radio           1\n",
              "Social Media    0\n",
              "Influencer      0\n",
              "Sales           1\n",
              "dtype: int64"
            ]
          },
          "metadata": {},
          "execution_count": 7
        }
      ]
    },
    {
      "cell_type": "code",
      "source": [
        "# Drop rows that contain missing data\n",
        "\n",
        "df = df.dropna(axis=0)"
      ],
      "metadata": {
        "id": "OyBcZSsiCnXp"
      },
      "id": "OyBcZSsiCnXp",
      "execution_count": null,
      "outputs": []
    },
    {
      "cell_type": "code",
      "source": [
        "# Confirm\n",
        "\n",
        "df.isnull().sum(axis=1)"
      ],
      "metadata": {
        "colab": {
          "base_uri": "https://localhost:8080/"
        },
        "id": "s6m40bvzC-S4",
        "outputId": "1de3ddfb-3c0d-4700-f14c-7760844fd593"
      },
      "id": "s6m40bvzC-S4",
      "execution_count": null,
      "outputs": [
        {
          "output_type": "execute_result",
          "data": {
            "text/plain": [
              "0      0\n",
              "1      0\n",
              "2      0\n",
              "3      0\n",
              "4      0\n",
              "      ..\n",
              "567    0\n",
              "568    0\n",
              "569    0\n",
              "570    0\n",
              "571    0\n",
              "Length: 569, dtype: int64"
            ]
          },
          "metadata": {},
          "execution_count": 9
        }
      ]
    },
    {
      "cell_type": "code",
      "source": [
        "# Check for duplicates\n",
        "\n",
        "df.duplicated().sum()"
      ],
      "metadata": {
        "colab": {
          "base_uri": "https://localhost:8080/"
        },
        "id": "SuFlgNsMAcQS",
        "outputId": "b66f031b-c27d-4ced-b8fa-3064f499d901"
      },
      "id": "SuFlgNsMAcQS",
      "execution_count": null,
      "outputs": [
        {
          "output_type": "execute_result",
          "data": {
            "text/plain": [
              "0"
            ]
          },
          "metadata": {},
          "execution_count": 10
        }
      ]
    },
    {
      "cell_type": "code",
      "source": [
        "### Check for outliers\n",
        "\n",
        "# visualize distribution of 'Sales' to detect any outliers\n",
        "\n",
        "plt.figure(figsize=(12,4))\n",
        "plt.title('Outlier Detection')\n",
        "plt.xticks(fontsize=8)\n",
        "plt.yticks(fontsize=8)\n",
        "sns.boxplot(x=df['Sales'])\n",
        "plt.show()"
      ],
      "metadata": {
        "colab": {
          "base_uri": "https://localhost:8080/",
          "height": 406
        },
        "id": "Olg4l4H0AmIR",
        "outputId": "3ef6906d-9fa0-4db7-8541-cfa1620e0346"
      },
      "id": "Olg4l4H0AmIR",
      "execution_count": null,
      "outputs": [
        {
          "output_type": "display_data",
          "data": {
            "text/plain": [
              "<Figure size 1200x400 with 1 Axes>"
            ],
            "image/png": "[encoded data removed]"
          },
          "metadata": {}
        }
      ]
    },
    {
      "cell_type": "markdown",
      "metadata": {
        "id": "3f63f855-1dac-415b-a303-4f66fc39322c"
      },
      "source": [
        "#### determine how `Sales` vary based on the `TV` promotion budget category."
      ],
      "id": "3f63f855-1dac-415b-a303-4f66fc39322c"
    },
    {
      "cell_type": "code",
      "execution_count": null,
      "metadata": {
        "id": "518254a6-44d5-45bf-9b57-13ce3a4deab3",
        "outputId": "23aafbf2-722b-46cc-e212-ccd78aa47d02",
        "colab": {
          "base_uri": "https://localhost:8080/",
          "height": 410
        }
      },
      "outputs": [
        {
          "output_type": "display_data",
          "data": {
            "text/plain": [
              "<Figure size 600x400 with 1 Axes>"
            ],
            "image/png": "[encoded data removed]"
          },
          "metadata": {}
        }
      ],
      "source": [
        "# Create a boxplot with TV and Sales\n",
        "\n",
        "plt.figure(figsize=(6,4))\n",
        "plt.title('Sales by TV groups')\n",
        "sns.boxplot( data = df, x = \"TV\", y = \"Sales\");"
      ],
      "id": "518254a6-44d5-45bf-9b57-13ce3a4deab3"
    },
    {
      "cell_type": "markdown",
      "metadata": {
        "id": "a956add8-97b0-45b8-a008-ca1f7033c308"
      },
      "source": [
        "\n",
        "From the plot, there is considerable variation in `Sales` across the `TV` groups. The significance of these differences can be tested with a one-way ANOVA."
      ],
      "id": "a956add8-97b0-45b8-a008-ca1f7033c308"
    },
    {
      "cell_type": "markdown",
      "metadata": {
        "id": "f3100abe-32db-4a56-b831-18eb0857b2d7"
      },
      "source": [
        "#### determine how `Sales` vary based on the `Influencer` size category."
      ],
      "id": "f3100abe-32db-4a56-b831-18eb0857b2d7"
    },
    {
      "cell_type": "code",
      "execution_count": null,
      "metadata": {
        "id": "fafbc9e4-de0b-4892-a863-add240208344",
        "outputId": "d64ddfe3-d756-4948-e575-7dc3b033ebc7",
        "colab": {
          "base_uri": "https://localhost:8080/",
          "height": 410
        }
      },
      "outputs": [
        {
          "output_type": "display_data",
          "data": {
            "text/plain": [
              "<Figure size 800x400 with 1 Axes>"
            ],
            "image/png": "[encoded data removed]"
          },
          "metadata": {}
        }
      ],
      "source": [
        "# Create a boxplot with Influencer and Sales.\n",
        "\n",
        "plt.figure(figsize=(8,4))\n",
        "plt.title('Sales by Influencer groups')\n",
        "sns.boxplot(data = df, x = \"Influencer\", y = \"Sales\");"
      ],
      "id": "fafbc9e4-de0b-4892-a863-add240208344"
    },
    {
      "cell_type": "markdown",
      "metadata": {
        "id": "e415aa95-0650-47e0-9efd-2770b8dfcb3d"
      },
      "source": [
        "\n",
        "from the plot, there is some variation in `Sales` across the `Influencer` groups, but it may not be significant."
      ],
      "id": "e415aa95-0650-47e0-9efd-2770b8dfcb3d"
    },
    {
      "cell_type": "markdown",
      "metadata": {
        "id": "888c90fa-d800-43e4-a692-9fdd576c9b9c"
      },
      "source": [
        "## Model building"
      ],
      "id": "888c90fa-d800-43e4-a692-9fdd576c9b9c"
    },
    {
      "cell_type": "markdown",
      "metadata": {
        "id": "9c906193-db62-4af0-83fa-dffafc347554"
      },
      "source": [
        "Fit a linear regression model that predicts `Sales` using one of the independent categorical variables in `data`."
      ],
      "id": "9c906193-db62-4af0-83fa-dffafc347554"
    },
    {
      "cell_type": "code",
      "execution_count": null,
      "metadata": {
        "id": "76f99341-1ea0-4f1d-a2c7-54e56bd57e38",
        "outputId": "12d403ed-7cfd-41db-ba7f-6cccbd0fc9c3",
        "colab": {
          "base_uri": "https://localhost:8080/",
          "height": 473
        }
      },
      "outputs": [
        {
          "output_type": "execute_result",
          "data": {
            "text/plain": [
              "<class 'statsmodels.iolib.summary.Summary'>\n",
              "\"\"\"\n",
              "                            OLS Regression Results                            \n",
              "==============================================================================\n",
              "Dep. Variable:                  Sales   R-squared:                       0.874\n",
              "Model:                            OLS   Adj. R-squared:                  0.874\n",
              "Method:                 Least Squares   F-statistic:                     1971.\n",
              "Date:                Thu, 22 Jun 2023   Prob (F-statistic):          8.81e-256\n",
              "Time:                        18:46:55   Log-Likelihood:                -2778.9\n",
              "No. Observations:                 569   AIC:                             5564.\n",
              "Df Residuals:                     566   BIC:                             5577.\n",
              "Df Model:                           2                                         \n",
              "Covariance Type:            nonrobust                                         \n",
              "===================================================================================\n",
              "                      coef    std err          t      P>|t|      [0.025      0.975]\n",
              "-----------------------------------------------------------------------------------\n",
              "Intercept         300.5296      2.417    124.360      0.000     295.783     305.276\n",
              "C(TV)[T.Low]     -208.8133      3.329    -62.720      0.000    -215.353    -202.274\n",
              "C(TV)[T.Medium]  -101.5061      3.325    -30.526      0.000    -108.038     -94.975\n",
              "==============================================================================\n",
              "Omnibus:                      450.714   Durbin-Watson:                   2.002\n",
              "Prob(Omnibus):                  0.000   Jarque-Bera (JB):               35.763\n",
              "Skew:                          -0.044   Prob(JB):                     1.71e-08\n",
              "Kurtosis:                       1.775   Cond. No.                         3.86\n",
              "==============================================================================\n",
              "\n",
              "Notes:\n",
              "[1] Standard Errors assume that the covariance matrix of the errors is correctly specified.\n",
              "\"\"\""
            ],
            "text/html": [
              "<table class=\"simpletable\">\n",
              "<caption>OLS Regression Results</caption>\n",
              "<tr>\n",
              "  <th>Dep. Variable:</th>          <td>Sales</td>      <th>  R-squared:         </th> <td>   0.874</td> \n",
              "</tr>\n",
              "<tr>\n",
              "  <th>Model:</th>                   <td>OLS</td>       <th>  Adj. R-squared:    </th> <td>   0.874</td> \n",
              "</tr>\n",
              "<tr>\n",
              "  <th>Method:</th>             <td>Least Squares</td>  <th>  F-statistic:       </th> <td>   1971.</td> \n",
              "</tr>\n",
              "<tr>\n",
              "  <th>Date:</th>             <td>Thu, 22 Jun 2023</td> <th>  Prob (F-statistic):</th> <td>8.81e-256</td>\n",
              "</tr>\n",
              "<tr>\n",
              "  <th>Time:</th>                 <td>18:46:55</td>     <th>  Log-Likelihood:    </th> <td> -2778.9</td> \n",
              "</tr>\n",
              "<tr>\n",
              "  <th>No. Observations:</th>      <td>   569</td>      <th>  AIC:               </th> <td>   5564.</td> \n",
              "</tr>\n",
              "<tr>\n",
              "  <th>Df Residuals:</th>          <td>   566</td>      <th>  BIC:               </th> <td>   5577.</td> \n",
              "</tr>\n",
              "<tr>\n",
              "  <th>Df Model:</th>              <td>     2</td>      <th>                     </th>     <td> </td>    \n",
              "</tr>\n",
              "<tr>\n",
              "  <th>Covariance Type:</th>      <td>nonrobust</td>    <th>                     </th>     <td> </td>    \n",
              "</tr>\n",
              "</table>\n",
              "<table class=\"simpletable\">\n",
              "<tr>\n",
              "         <td></td>            <th>coef</th>     <th>std err</th>      <th>t</th>      <th>P>|t|</th>  <th>[0.025</th>    <th>0.975]</th>  \n",
              "</tr>\n",
              "<tr>\n",
              "  <th>Intercept</th>       <td>  300.5296</td> <td>    2.417</td> <td>  124.360</td> <td> 0.000</td> <td>  295.783</td> <td>  305.276</td>\n",
              "</tr>\n",
              "<tr>\n",
              "  <th>C(TV)[T.Low]</th>    <td> -208.8133</td> <td>    3.329</td> <td>  -62.720</td> <td> 0.000</td> <td> -215.353</td> <td> -202.274</td>\n",
              "</tr>\n",
              "<tr>\n",
              "  <th>C(TV)[T.Medium]</th> <td> -101.5061</td> <td>    3.325</td> <td>  -30.526</td> <td> 0.000</td> <td> -108.038</td> <td>  -94.975</td>\n",
              "</tr>\n",
              "</table>\n",
              "<table class=\"simpletable\">\n",
              "<tr>\n",
              "  <th>Omnibus:</th>       <td>450.714</td> <th>  Durbin-Watson:     </th> <td>   2.002</td>\n",
              "</tr>\n",
              "<tr>\n",
              "  <th>Prob(Omnibus):</th> <td> 0.000</td>  <th>  Jarque-Bera (JB):  </th> <td>  35.763</td>\n",
              "</tr>\n",
              "<tr>\n",
              "  <th>Skew:</th>          <td>-0.044</td>  <th>  Prob(JB):          </th> <td>1.71e-08</td>\n",
              "</tr>\n",
              "<tr>\n",
              "  <th>Kurtosis:</th>      <td> 1.775</td>  <th>  Cond. No.          </th> <td>    3.86</td>\n",
              "</tr>\n",
              "</table><br/><br/>Notes:<br/>[1] Standard Errors assume that the covariance matrix of the errors is correctly specified."
            ]
          },
          "metadata": {},
          "execution_count": 22
        }
      ],
      "source": [
        "# relationship between the variable \"Sales\" and the categorical variable \"TV\"\n",
        "\n",
        "# The \"C\" in \"C(TV)\" indicates that \"TV\" should be treated as a categorical variable\n",
        "\n",
        "ols_formula = 'Sales ~ C(TV)'\n",
        "\n",
        "# Create an OLS model.\n",
        "\n",
        "OLS = ols(formula = ols_formula, data = df)\n",
        "\n",
        "# Fit the model.\n",
        "\n",
        "model = OLS.fit()\n",
        "\n",
        "# Save the results summary.\n",
        "\n",
        "model_results = model.summary()\n",
        "\n",
        "# Display the model results.\n",
        "\n",
        "model_results"
      ],
      "id": "76f99341-1ea0-4f1d-a2c7-54e56bd57e38"
    },
    {
      "cell_type": "markdown",
      "metadata": {
        "id": "1d889a8b-76f5-4f27-833f-a19af27ed8ca"
      },
      "source": [
        "* `TV` was selected because it shows a strong relationship with `TV` `Sales`\n",
        "* `Influencer` was not selected because it did not show a strong relationship to `Sales` in the analysis."
      ],
      "id": "1d889a8b-76f5-4f27-833f-a19af27ed8ca"
    },
    {
      "cell_type": "markdown",
      "metadata": {
        "id": "b4987bee-40ae-4513-95c3-1bec1acdbba9",
        "tags": []
      },
      "source": [
        "#### verify that the normality assumption is upheld for the model."
      ],
      "id": "b4987bee-40ae-4513-95c3-1bec1acdbba9"
    },
    {
      "cell_type": "code",
      "execution_count": null,
      "metadata": {
        "id": "cce8f99b-33e2-4723-9266-4f009e7a15dd",
        "outputId": "70fcd336-4a11-4d39-a8b4-1b8e0f096487",
        "colab": {
          "base_uri": "https://localhost:8080/",
          "height": 407
        }
      },
      "outputs": [
        {
          "output_type": "display_data",
          "data": {
            "text/plain": [
              "<Figure size 1000x400 with 2 Axes>"
            ],
            "image/png": "[encoded data removed]"
          },
          "metadata": {}
        }
      ],
      "source": [
        "# Calculate the residuals.\n",
        "\n",
        "residuals = model.resid\n",
        "\n",
        "# Create a 1x2 plot figure.\n",
        "fig, axes = plt.subplots(1, 2, figsize = (10,4))\n",
        "\n",
        "# Create a histogram with the residuals.\n",
        "\n",
        "sns.histplot(residuals, ax=axes[0])\n",
        "\n",
        "# Set the x label of the residual plot.\n",
        "axes[0].set_xlabel(\"Residual Value\")\n",
        "\n",
        "# Set the title of the residual plot.\n",
        "axes[0].set_title(\"Residuals plot\")\n",
        "\n",
        "# Create a QQ plot of the residuals.\n",
        "\n",
        "sm.qqplot(residuals, line='s',ax = axes[1])\n",
        "\n",
        "# Set the title of the QQ plot.\n",
        "axes[1].set_title(\"Normal QQ Plot\")\n",
        "\n",
        "# Use matplotlib's tight_layout() function to add space between plots for a cleaner appearance.\n",
        "plt.tight_layout()\n",
        "\n",
        "# Show the plot.\n",
        "plt.show()"
      ],
      "id": "cce8f99b-33e2-4723-9266-4f009e7a15dd"
    },
    {
      "cell_type": "markdown",
      "metadata": {
        "id": "e41f4dd7-5501-43b7-b684-58bad8ff61fb"
      },
      "source": [
        "\n",
        "There is reasonable concern that the normality assumption is not met when `TV` is used as the independent variable predicting `Sales`. The normal q-q forms an 'S' that deviates off the red diagonal line, which is not desired behavior.\n",
        "\n",
        "However, for the purpose of the lab, continue assuming the normality assumption is met."
      ],
      "id": "e41f4dd7-5501-43b7-b684-58bad8ff61fb"
    },
    {
      "cell_type": "markdown",
      "metadata": {
        "id": "be83ac10-d1d0-4b94-88de-5de424528547"
      },
      "source": [
        "#### verify the constant variance (homoscedasticity) assumption is met for this model."
      ],
      "id": "be83ac10-d1d0-4b94-88de-5de424528547"
    },
    {
      "cell_type": "code",
      "execution_count": null,
      "metadata": {
        "id": "efcd0325-b3a0-42d1-ad57-38f10800c35e",
        "outputId": "55281fae-fe47-4974-d802-36d5c52b6d22",
        "colab": {
          "base_uri": "https://localhost:8080/",
          "height": 472
        }
      },
      "outputs": [
        {
          "output_type": "display_data",
          "data": {
            "text/plain": [
              "<Figure size 640x480 with 1 Axes>"
            ],
            "image/png": "[encoded data removed]"
          },
          "metadata": {}
        }
      ],
      "source": [
        "# Create a scatter plot with the fitted values from the model and the residuals.\n",
        "\n",
        "fig = sns.scatterplot(x = model.fittedvalues, y = model.resid)\n",
        "\n",
        "# Set the x axis label\n",
        "fig.set_xlabel(\"Fitted Values\")\n",
        "\n",
        "# Set the y axis label\n",
        "fig.set_ylabel(\"Residuals\")\n",
        "\n",
        "# Set the title\n",
        "fig.set_title(\"Fitted Values v. Residuals\")\n",
        "\n",
        "# Add a line at y = 0 to visualize the variance of residuals above and below 0.\n",
        "\n",
        "fig.axhline(0)\n",
        "\n",
        "# Show the plot\n",
        "plt.show()"
      ],
      "id": "efcd0325-b3a0-42d1-ad57-38f10800c35e"
    },
    {
      "cell_type": "markdown",
      "metadata": {
        "id": "8318f726-369c-446a-acad-85117e43459b"
      },
      "source": [
        "The variance where there are fitted values is similarly distributed, validating that the constant variance assumption is met."
      ],
      "id": "8318f726-369c-446a-acad-85117e43459b"
    },
    {
      "cell_type": "markdown",
      "metadata": {
        "id": "84373d80-2129-4124-85fa-85871671004b"
      },
      "source": [
        "## Results and evaluation"
      ],
      "id": "84373d80-2129-4124-85fa-85871671004b"
    },
    {
      "cell_type": "markdown",
      "metadata": {
        "id": "30f5a3e8-a446-4a64-a0cb-4a512a367111"
      },
      "source": [
        "First, display the OLS regression results."
      ],
      "id": "30f5a3e8-a446-4a64-a0cb-4a512a367111"
    },
    {
      "cell_type": "code",
      "execution_count": null,
      "metadata": {
        "id": "7d0bfc27-05f7-4cfa-9aa1-8e2110eabd69",
        "outputId": "a80f4e3e-acd5-46de-aef3-447ca8d6f0fb",
        "colab": {
          "base_uri": "https://localhost:8080/",
          "height": 473
        }
      },
      "outputs": [
        {
          "output_type": "execute_result",
          "data": {
            "text/plain": [
              "<class 'statsmodels.iolib.summary.Summary'>\n",
              "\"\"\"\n",
              "                            OLS Regression Results                            \n",
              "==============================================================================\n",
              "Dep. Variable:                  Sales   R-squared:                       0.874\n",
              "Model:                            OLS   Adj. R-squared:                  0.874\n",
              "Method:                 Least Squares   F-statistic:                     1971.\n",
              "Date:                Thu, 22 Jun 2023   Prob (F-statistic):          8.81e-256\n",
              "Time:                        18:46:55   Log-Likelihood:                -2778.9\n",
              "No. Observations:                 569   AIC:                             5564.\n",
              "Df Residuals:                     566   BIC:                             5577.\n",
              "Df Model:                           2                                         \n",
              "Covariance Type:            nonrobust                                         \n",
              "===================================================================================\n",
              "                      coef    std err          t      P>|t|      [0.025      0.975]\n",
              "-----------------------------------------------------------------------------------\n",
              "Intercept         300.5296      2.417    124.360      0.000     295.783     305.276\n",
              "C(TV)[T.Low]     -208.8133      3.329    -62.720      0.000    -215.353    -202.274\n",
              "C(TV)[T.Medium]  -101.5061      3.325    -30.526      0.000    -108.038     -94.975\n",
              "==============================================================================\n",
              "Omnibus:                      450.714   Durbin-Watson:                   2.002\n",
              "Prob(Omnibus):                  0.000   Jarque-Bera (JB):               35.763\n",
              "Skew:                          -0.044   Prob(JB):                     1.71e-08\n",
              "Kurtosis:                       1.775   Cond. No.                         3.86\n",
              "==============================================================================\n",
              "\n",
              "Notes:\n",
              "[1] Standard Errors assume that the covariance matrix of the errors is correctly specified.\n",
              "\"\"\""
            ],
            "text/html": [
              "<table class=\"simpletable\">\n",
              "<caption>OLS Regression Results</caption>\n",
              "<tr>\n",
              "  <th>Dep. Variable:</th>          <td>Sales</td>      <th>  R-squared:         </th> <td>   0.874</td> \n",
              "</tr>\n",
              "<tr>\n",
              "  <th>Model:</th>                   <td>OLS</td>       <th>  Adj. R-squared:    </th> <td>   0.874</td> \n",
              "</tr>\n",
              "<tr>\n",
              "  <th>Method:</th>             <td>Least Squares</td>  <th>  F-statistic:       </th> <td>   1971.</td> \n",
              "</tr>\n",
              "<tr>\n",
              "  <th>Date:</th>             <td>Thu, 22 Jun 2023</td> <th>  Prob (F-statistic):</th> <td>8.81e-256</td>\n",
              "</tr>\n",
              "<tr>\n",
              "  <th>Time:</th>                 <td>18:46:55</td>     <th>  Log-Likelihood:    </th> <td> -2778.9</td> \n",
              "</tr>\n",
              "<tr>\n",
              "  <th>No. Observations:</th>      <td>   569</td>      <th>  AIC:               </th> <td>   5564.</td> \n",
              "</tr>\n",
              "<tr>\n",
              "  <th>Df Residuals:</th>          <td>   566</td>      <th>  BIC:               </th> <td>   5577.</td> \n",
              "</tr>\n",
              "<tr>\n",
              "  <th>Df Model:</th>              <td>     2</td>      <th>                     </th>     <td> </td>    \n",
              "</tr>\n",
              "<tr>\n",
              "  <th>Covariance Type:</th>      <td>nonrobust</td>    <th>                     </th>     <td> </td>    \n",
              "</tr>\n",
              "</table>\n",
              "<table class=\"simpletable\">\n",
              "<tr>\n",
              "         <td></td>            <th>coef</th>     <th>std err</th>      <th>t</th>      <th>P>|t|</th>  <th>[0.025</th>    <th>0.975]</th>  \n",
              "</tr>\n",
              "<tr>\n",
              "  <th>Intercept</th>       <td>  300.5296</td> <td>    2.417</td> <td>  124.360</td> <td> 0.000</td> <td>  295.783</td> <td>  305.276</td>\n",
              "</tr>\n",
              "<tr>\n",
              "  <th>C(TV)[T.Low]</th>    <td> -208.8133</td> <td>    3.329</td> <td>  -62.720</td> <td> 0.000</td> <td> -215.353</td> <td> -202.274</td>\n",
              "</tr>\n",
              "<tr>\n",
              "  <th>C(TV)[T.Medium]</th> <td> -101.5061</td> <td>    3.325</td> <td>  -30.526</td> <td> 0.000</td> <td> -108.038</td> <td>  -94.975</td>\n",
              "</tr>\n",
              "</table>\n",
              "<table class=\"simpletable\">\n",
              "<tr>\n",
              "  <th>Omnibus:</th>       <td>450.714</td> <th>  Durbin-Watson:     </th> <td>   2.002</td>\n",
              "</tr>\n",
              "<tr>\n",
              "  <th>Prob(Omnibus):</th> <td> 0.000</td>  <th>  Jarque-Bera (JB):  </th> <td>  35.763</td>\n",
              "</tr>\n",
              "<tr>\n",
              "  <th>Skew:</th>          <td>-0.044</td>  <th>  Prob(JB):          </th> <td>1.71e-08</td>\n",
              "</tr>\n",
              "<tr>\n",
              "  <th>Kurtosis:</th>      <td> 1.775</td>  <th>  Cond. No.          </th> <td>    3.86</td>\n",
              "</tr>\n",
              "</table><br/><br/>Notes:<br/>[1] Standard Errors assume that the covariance matrix of the errors is correctly specified."
            ]
          },
          "metadata": {},
          "execution_count": 26
        }
      ],
      "source": [
        "# Display the model results summary.\n",
        "\n",
        "model_results"
      ],
      "id": "7d0bfc27-05f7-4cfa-9aa1-8e2110eabd69"
    },
    {
      "cell_type": "markdown",
      "metadata": {
        "id": "b29062e1-5c7f-4a78-b782-a07236bbcc28"
      },
      "source": [
        "\n",
        "Using `TV` as the independent variable results in a linear regression model with $R^{2} = 0.874$. In other words, the model explains $87.4\\%$ of the variation in `Sales`. This makes the model an effective predictor of `Sales`."
      ],
      "id": "b29062e1-5c7f-4a78-b782-a07236bbcc28"
    },
    {
      "cell_type": "markdown",
      "metadata": {
        "id": "8ca575f3-cbba-4a0a-99d0-b8bf82ea49e4",
        "tags": []
      },
      "source": [
        "\n",
        "The default `TV` category for the model is `High`, because there are coefficients for the other two `TV` categories, `Medium` and `Low`. According to the model, `Sales` with a `Medium` or `Low` `TV` category are lower on average than `Sales` with a `High` `TV` category."
      ],
      "id": "8ca575f3-cbba-4a0a-99d0-b8bf82ea49e4"
    },
    {
      "cell_type": "markdown",
      "metadata": {
        "id": "b7e61507-0dd5-4d32-8045-ba06cc37fcd4"
      },
      "source": [
        "\n",
        "Given how accurate `TV` was as a predictor, the model could be improved with a more granular view of the `TV` promotions, such as additional categories or the actual `TV` promotion budgets. Further, additional variables, such as the location of the marketing campaign or the time of year, may increase model accuracy."
      ],
      "id": "b7e61507-0dd5-4d32-8045-ba06cc37fcd4"
    },
    {
      "cell_type": "markdown",
      "metadata": {
        "id": "97b169ad-b113-46e3-996a-53f268adbc6d"
      },
      "source": [
        "## Perform a one-way ANOVA test"
      ],
      "id": "97b169ad-b113-46e3-996a-53f268adbc6d"
    },
    {
      "cell_type": "code",
      "execution_count": null,
      "metadata": {
        "id": "aadfa800-a74c-4819-abb8-cda13ce16d96",
        "outputId": "74d9cdee-7b69-493f-bb06-87990cfbf553",
        "colab": {
          "base_uri": "https://localhost:8080/",
          "height": 112
        }
      },
      "outputs": [
        {
          "output_type": "execute_result",
          "data": {
            "text/plain": [
              "             df        sum_sq       mean_sq            F         PR(>F)\n",
              "C(TV)       2.0  4.052692e+06  2.026346e+06  1971.455737  8.805550e-256\n",
              "Residual  566.0  5.817589e+05  1.027843e+03          NaN            NaN"
            ],
            "text/html": [
              "\n",
              "  <div id=\"df-8386c6c3-7798-420f-999f-327c207f88b8\">\n",
              "    <div class=\"colab-df-container\">\n",
              "      <div>\n",
              "<style scoped>\n",
              "    .dataframe tbody tr th:only-of-type {\n",
              "        vertical-align: middle;\n",
              "    }\n",
              "\n",
              "    .dataframe tbody tr th {\n",
              "        vertical-align: top;\n",
              "    }\n",
              "\n",
              "    .dataframe thead th {\n",
              "        text-align: right;\n",
              "    }\n",
              "</style>\n",
              "<table border=\"1\" class=\"dataframe\">\n",
              "  <thead>\n",
              "    <tr style=\"text-align: right;\">\n",
              "      <th></th>\n",
              "      <th>df</th>\n",
              "      <th>sum_sq</th>\n",
              "      <th>mean_sq</th>\n",
              "      <th>F</th>\n",
              "      <th>PR(&gt;F)</th>\n",
              "    </tr>\n",
              "  </thead>\n",
              "  <tbody>\n",
              "    <tr>\n",
              "      <th>C(TV)</th>\n",
              "      <td>2.0</td>\n",
              "      <td>4.052692e+06</td>\n",
              "      <td>2.026346e+06</td>\n",
              "      <td>1971.455737</td>\n",
              "      <td>8.805550e-256</td>\n",
              "    </tr>\n",
              "    <tr>\n",
              "      <th>Residual</th>\n",
              "      <td>566.0</td>\n",
              "      <td>5.817589e+05</td>\n",
              "      <td>1.027843e+03</td>\n",
              "      <td>NaN</td>\n",
              "      <td>NaN</td>\n",
              "    </tr>\n",
              "  </tbody>\n",
              "</table>\n",
              "</div>\n",
              "      <button class=\"colab-df-convert\" onclick=\"convertToInteractive('df-8386c6c3-7798-420f-999f-327c207f88b8')\"\n",
              "              title=\"Convert this dataframe to an interactive table.\"\n",
              "              style=\"display:none;\">\n",
              "        \n",
              "  <svg xmlns=\"http://www.w3.org/2000/svg\" height=\"24px\"viewBox=\"0 0 24 24\"\n",
              "       width=\"24px\">\n",
              "    <path d=\"M0 0h24v24H0V0z\" fill=\"none\"/>\n",
              "    <path d=\"M18.56 5.44l.94 2.06.94-2.06 2.06-.94-2.06-.94-.94-2.06-.94 2.06-2.06.94zm-11 1L8.5 8.5l.94-2.06 2.06-.94-2.06-.94L8.5 2.5l-.94 2.06-2.06.94zm10 10l.94 2.06.94-2.06 2.06-.94-2.06-.94-.94-2.06-.94 2.06-2.06.94z\"/><path d=\"M17.41 7.96l-1.37-1.37c-.4-.4-.92-.59-1.43-.59-.52 0-1.04.2-1.43.59L10.3 9.45l-7.72 7.72c-.78.78-.78 2.05 0 2.83L4 21.41c.39.39.9.59 1.41.59.51 0 1.02-.2 1.41-.59l7.78-7.78 2.81-2.81c.8-.78.8-2.07 0-2.86zM5.41 20L4 18.59l7.72-7.72 1.47 1.35L5.41 20z\"/>\n",
              "  </svg>\n",
              "      </button>\n",
              "      \n",
              "  <style>\n",
              "    .colab-df-container {\n",
              "      display:flex;\n",
              "      flex-wrap:wrap;\n",
              "      gap: 12px;\n",
              "    }\n",
              "\n",
              "    .colab-df-convert {\n",
              "      background-color: #E8F0FE;\n",
              "      border: none;\n",
              "      border-radius: 50%;\n",
              "      cursor: pointer;\n",
              "      display: none;\n",
              "      fill: #1967D2;\n",
              "      height: 32px;\n",
              "      padding: 0 0 0 0;\n",
              "      width: 32px;\n",
              "    }\n",
              "\n",
              "    .colab-df-convert:hover {\n",
              "      background-color: #E2EBFA;\n",
              "      box-shadow: 0px 1px 2px rgba(60, 64, 67, 0.3), 0px 1px 3px 1px rgba(60, 64, 67, 0.15);\n",
              "      fill: #174EA6;\n",
              "    }\n",
              "\n",
              "    [theme=dark] .colab-df-convert {\n",
              "      background-color: #3B4455;\n",
              "      fill: #D2E3FC;\n",
              "    }\n",
              "\n",
              "    [theme=dark] .colab-df-convert:hover {\n",
              "      background-color: #434B5C;\n",
              "      box-shadow: 0px 1px 3px 1px rgba(0, 0, 0, 0.15);\n",
              "      filter: drop-shadow(0px 1px 2px rgba(0, 0, 0, 0.3));\n",
              "      fill: #FFFFFF;\n",
              "    }\n",
              "  </style>\n",
              "\n",
              "      <script>\n",
              "        const buttonEl =\n",
              "          document.querySelector('#df-8386c6c3-7798-420f-999f-327c207f88b8 button.colab-df-convert');\n",
              "        buttonEl.style.display =\n",
              "          google.colab.kernel.accessAllowed ? 'block' : 'none';\n",
              "\n",
              "        async function convertToInteractive(key) {\n",
              "          const element = document.querySelector('#df-8386c6c3-7798-420f-999f-327c207f88b8');\n",
              "          const dataTable =\n",
              "            await google.colab.kernel.invokeFunction('convertToInteractive',\n",
              "                                                     [key], {});\n",
              "          if (!dataTable) return;\n",
              "\n",
              "          const docLinkHtml = 'Like what you see? Visit the ' +\n",
              "            '<a target=\"_blank\" href=https://colab.research.google.com/notebooks/data_table.ipynb>data table notebook</a>'\n",
              "            + ' to learn more about interactive tables.';\n",
              "          element.innerHTML = '';\n",
              "          dataTable['output_type'] = 'display_data';\n",
              "          await google.colab.output.renderOutput(dataTable, element);\n",
              "          const docLink = document.createElement('div');\n",
              "          docLink.innerHTML = docLinkHtml;\n",
              "          element.appendChild(docLink);\n",
              "        }\n",
              "      </script>\n",
              "    </div>\n",
              "  </div>\n",
              "  "
            ]
          },
          "metadata": {},
          "execution_count": 27
        }
      ],
      "source": [
        "# Create an one-way ANOVA table for the fit model.\n",
        "\n",
        "sm.stats.anova_lm(model, typ = 1)"
      ],
      "id": "aadfa800-a74c-4819-abb8-cda13ce16d96"
    },
    {
      "cell_type": "markdown",
      "metadata": {
        "id": "735c20e2-bd53-4e36-81bd-38ae78a4d4a8"
      },
      "source": [
        "\n",
        "Null hypothesis: there is no difference in `Sales` based on the `TV` promotion budget.\n",
        "\n",
        "Alternative hypothesis: there is a difference in `Sales` based on the `TV` promotion budget.\n",
        "\n",
        "The F-test is 1971.46, and the p-value is 8.805550e-256. Since the p-value is very small and less than the significance level of 0.05."
      ],
      "id": "735c20e2-bd53-4e36-81bd-38ae78a4d4a8"
    },
    {
      "cell_type": "markdown",
      "metadata": {
        "id": "6e1d8561-3957-400b-89d1-4330ee923193"
      },
      "source": [
        "Based on the results of the one-way ANOVA test, we reject the Null hypothesis in favor of the Alternative hypothesis. This suggests that the `TV` promotion budget has a significant impact on `Sales`, and there are variations in `Sales` across different `TV` promotion groups."
      ],
      "id": "6e1d8561-3957-400b-89d1-4330ee923193"
    },
    {
      "cell_type": "markdown",
      "metadata": {
        "id": "532a2ba1-8e9a-4c8f-b432-dfeea0e62fc4"
      },
      "source": [
        "### Perform an ANOVA post hoc test"
      ],
      "id": "532a2ba1-8e9a-4c8f-b432-dfeea0e62fc4"
    },
    {
      "cell_type": "code",
      "execution_count": null,
      "metadata": {
        "id": "cce84e77-6269-4295-b961-8350a4b4920c",
        "outputId": "58838c22-763e-400a-d270-3d26ba5e315e",
        "colab": {
          "base_uri": "https://localhost:8080/",
          "height": 122
        }
      },
      "outputs": [
        {
          "output_type": "execute_result",
          "data": {
            "text/plain": [
              "<class 'statsmodels.iolib.table.SimpleTable'>"
            ],
            "text/html": [
              "<table class=\"simpletable\">\n",
              "<caption>Multiple Comparison of Means - Tukey HSD, FWER=0.05</caption>\n",
              "<tr>\n",
              "  <th>group1</th> <th>group2</th> <th>meandiff</th>  <th>p-adj</th>   <th>lower</th>     <th>upper</th>   <th>reject</th>\n",
              "</tr>\n",
              "<tr>\n",
              "   <td>High</td>    <td>Low</td>  <td>-208.8133</td>  <td>0.0</td>  <td>-216.6367</td> <td>-200.9898</td>  <td>True</td> \n",
              "</tr>\n",
              "<tr>\n",
              "   <td>High</td>  <td>Medium</td> <td>-101.5061</td>  <td>0.0</td>  <td>-109.3202</td> <td>-93.6921</td>   <td>True</td> \n",
              "</tr>\n",
              "<tr>\n",
              "    <td>Low</td>  <td>Medium</td> <td>107.3072</td>   <td>0.0</td>   <td>99.7066</td>  <td>114.9077</td>   <td>True</td> \n",
              "</tr>\n",
              "</table>"
            ]
          },
          "metadata": {},
          "execution_count": 28
        }
      ],
      "source": [
        "# Perform the Tukey's HSD post hoc test.\n",
        "\n",
        "tukey_oneway = pairwise_tukeyhsd(endog = df[\"Sales\"], groups = df[\"TV\"])\n",
        "\n",
        "# Display the results\n",
        "tukey_oneway.summary()"
      ],
      "id": "cce84e77-6269-4295-b961-8350a4b4920c"
    },
    {
      "cell_type": "markdown",
      "source": [
        "Based on the results of the Tukey HSD (Honestly Significant Difference) test with a family-wise error rate (FWER) of 0.05:\n",
        "\n",
        "`High` vs. `Low`: The mean difference is  -208.8133. The p-value is 0.0, indicating a significant difference. The 95% confidence interval for the difference ranges from -216.6367 to -200.9898.  \n",
        "\n",
        "`High` vs. `Medium`: The mean difference is  -101.5061. The p-value is 0.0, indicating a significant difference. The 95% confidence interval for the difference ranges from -109.3202 to -93.6921.\n",
        "\n",
        "`Low` vs. `Medium`: The mean difference is  107.3072. The p-value is 0.0, indicating a significant difference. The 95% confidence interval for the difference ranges from 99.7066 to 114.9077.\n",
        "\n",
        "Thus, we reject the null hypothesis and conclude that there is a significant difference in Sales between `High` vs. `Low`, `High` vs. `Medium` & `Low` vs. `Medium` `TV` groups."
      ],
      "metadata": {
        "id": "xt6h1Q4nvKC1"
      },
      "id": "xt6h1Q4nvKC1"
    },
    {
      "cell_type": "markdown",
      "source": [
        "These results from the Tukey HSD test provide detailed information about the significant differences between the TV groups in terms of Sales. The post hoc analysis allows us to determine the specific group comparisons that exhibit significant differences, thereby enhancing our understanding of the relationships between the TV promotion types and their impact on Sales."
      ],
      "metadata": {
        "id": "VLrNAx82vW3c"
      },
      "id": "VLrNAx82vW3c"
    },
    {
      "cell_type": "markdown",
      "source": [
        "## Key findings & Considerations"
      ],
      "metadata": {
        "id": "Tl_NpoZ3xV_m"
      },
      "id": "Tl_NpoZ3xV_m"
    },
    {
      "cell_type": "markdown",
      "metadata": {
        "id": "agx1bDPU9cd4"
      },
      "source": [
        "\n",
        "* Box-plots provided a useful visualization of the variable distribution across groups, aiding in understanding the data's spread.\n",
        "* One-way ANOVA was used to determine if there are significant differences among the means of three or more groups.\n",
        "* ANOVA post hoc tests offered detailed insights into the pairwise differences between groups.\n",
        "\n",
        "High TV promotion budgets result in significantly more sales compared to both medium and low TV promotion budgets.\n",
        "\n",
        "Medium TV promotion budgets result in significantly more sales than low TV promotion budgets."
      ],
      "id": "agx1bDPU9cd4"
    },
    {
      "cell_type": "markdown",
      "source": [
        "Additional analysis:\n",
        "\n",
        "The linear regression model used to estimate `Sales` based on the `TV` promotion budget achieved an R-squared value of 0.874, indicating a reasonably accurate estimator. The model showed a statistically significant relationship between the `TV` promotion budget and `Sales`.\n",
        "\n",
        "Shifting from a medium to a high `TV` promotion budget resulted in a substantial increase in sales.\n",
        "Choosing a high `TV` promotion budget over a low `TV` promotion budget led to a significant boost in sales.\n",
        "\n",
        "These findings highlight the positive impact of allocating a higher budget to `TV` promotion, indicating its effectiveness in driving sales."
      ],
      "metadata": {
        "id": "Y9Yue3VxyFTS"
      },
      "id": "Y9Yue3VxyFTS"
    },
    {
      "cell_type": "markdown",
      "source": [
        "\n",
        "The results of the one-way ANOVA test provide evidence to reject the null hypothesis that there is no difference in Sales based on the TV promotion budget. Furthermore, the ANOVA post hoc test revealed significant differences among all pairs of TV promotions.\n",
        "\n",
        "Both the one-way ANOVA test and Tukey's HSD test confirmed the presence of a significant difference in the distribution of sales across TV promotions.\n",
        "\n",
        "These findings emphasize the impact of the TV promotion budget on Sales, highlighting the distinct sales performance between different TV promotion categories."
      ],
      "metadata": {
        "id": "HeaBG-6CyREF"
      },
      "id": "HeaBG-6CyREF"
    }
  ],
  "metadata": {
    "colab": {
      "provenance": []
    },
    "kernelspec": {
      "display_name": "Python 3",
      "language": "python",
      "name": "python3"
    },
    "language_info": {
      "codemirror_mode": {
        "name": "ipython",
        "version": 3
      },
      "file_extension": ".py",
      "mimetype": "text/x-python",
      "name": "python",
      "nbconvert_exporter": "python",
      "pygments_lexer": "ipython3",
      "version": "3.7.6"
    }
  },
  "nbformat": 4,
  "nbformat_minor": 5
}